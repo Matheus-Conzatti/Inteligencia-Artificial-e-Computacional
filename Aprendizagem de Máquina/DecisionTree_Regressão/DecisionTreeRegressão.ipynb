{
 "cells": [
  {
   "cell_type": "code",
   "execution_count": 1,
   "metadata": {},
   "outputs": [
    {
     "ename": "ModuleNotFoundError",
     "evalue": "No module named 'statsmodels'",
     "output_type": "error",
     "traceback": [
      "\u001b[1;31m---------------------------------------------------------------------------\u001b[0m",
      "\u001b[1;31mModuleNotFoundError\u001b[0m                       Traceback (most recent call last)",
      "Cell \u001b[1;32mIn [1], line 3\u001b[0m\n\u001b[0;32m      1\u001b[0m \u001b[39mimport\u001b[39;00m \u001b[39mnumpy\u001b[39;00m \u001b[39mas\u001b[39;00m \u001b[39mnp\u001b[39;00m\n\u001b[0;32m      2\u001b[0m \u001b[39mimport\u001b[39;00m \u001b[39mpandas\u001b[39;00m \u001b[39mas\u001b[39;00m \u001b[39mpd\u001b[39;00m\n\u001b[1;32m----> 3\u001b[0m \u001b[39mimport\u001b[39;00m \u001b[39mstatsmodels\u001b[39;00m\u001b[39m.\u001b[39;00m\u001b[39mapi\u001b[39;00m \u001b[39mas\u001b[39;00m \u001b[39msm\u001b[39;00m\n\u001b[0;32m      4\u001b[0m \u001b[39mfrom\u001b[39;00m \u001b[39msklearn\u001b[39;00m\u001b[39m.\u001b[39;00m\u001b[39mlinear_model\u001b[39;00m \u001b[39mimport\u001b[39;00m LinearRegression\n\u001b[0;32m      5\u001b[0m \u001b[39mfrom\u001b[39;00m \u001b[39msklearn\u001b[39;00m\u001b[39m.\u001b[39;00m\u001b[39mmetrics\u001b[39;00m \u001b[39mimport\u001b[39;00m mean_squared_error\n",
      "\u001b[1;31mModuleNotFoundError\u001b[0m: No module named 'statsmodels'"
     ]
    }
   ],
   "source": [
    "import numpy as np\n",
    "import pandas as pd\n",
    "import statsmodels.api as sm\n",
    "from sklearn.linear_model import LinearRegression\n",
    "from sklearn.metrics import mean_squared_error\n",
    "from sklearn.model_selection import train_test_split\n",
    "from sklearn.preprocessing import StandardScaler\n",
    "\n",
    "#Realiza a leitura dos dados que estão no arquivo csv.\n",
    "dados = pd.read_csv(\"./CSV/california_housing_train.csv\")\n",
    "dados.head()\n",
    "\n",
    "y = 'median_house_value'\n",
    "modelo = sm.OLS(dados[y], dados.drop([y], axis=1))\n",
    "res = modelo.fit()\n",
    "\n",
    "X = dados.drop([y], axis=1)\n",
    "scaler = StandardScaler()\n",
    "normalized_X = scaler.fit_transform(X)\n",
    "normalized_X = pd.DataFrame(normalized_X, columns=X.columns)\n",
    "normalized_X['intercept'] = 1\n",
    "\n",
    "modelo = sm.OLS(dados[y], normalized_X)\n",
    "res = modelo.fit()\n",
    "\n",
    "#Faz o treinamento(70%) e os testes(30%) dos dados da tabela.\n",
    "Xtrain, Xval, ytrain, yval = train_test_split(X, dados[y], test_size=0.3, random_state=23)\n",
    "print(Xtrain.shape, Xval.shape, ytrain.shape, yval.shape)\n",
    "\n",
    "#Utilizando a Regressão Linnear\n",
    "modelo = LinearRegression()\n",
    "modelo.fit(Xtrain, ytrain)\n",
    "\n",
    "#Usando a previsão\n",
    "p = modelo.predict(Xval)\n",
    "\n",
    "#Calculo de erro\n",
    "#Sendo que para calcular o erro, primeiro vem os valores reais do erro e por segundo vem a previsão\n",
    "print(\"\\nRaiz quadrada:\", np.sqrt(mean_squared_error(yval, p)))\n",
    "\n",
    "#Efeitos da Normalização dos resutados dos treinos e testes\n",
    "scaler = StandardScaler()\n",
    "Xtrain_scaled = scaler.fit_transform(Xtrain)\n",
    "Xval_scaled = scaler.transform(Xval)\n",
    "\n",
    "modelo = LinearRegression()\n",
    "modelo.fit(Xtrain_scaled, ytrain)\n",
    "\n",
    "p = modelo.predict(Xval_scaled)\n",
    "print(\"\\nRaiz Quadrada da normalização:\", np.sqrt(mean_squared_error(yval, p)))\n",
    "print(\"\\nValores do coeficiente\\n\",modelo.coef_)"
   ]
  }
 ],
 "metadata": {
  "kernelspec": {
   "display_name": "Python 3.9.10 64-bit",
   "language": "python",
   "name": "python3"
  },
  "language_info": {
   "codemirror_mode": {
    "name": "ipython",
    "version": 3
   },
   "file_extension": ".py",
   "mimetype": "text/x-python",
   "name": "python",
   "nbconvert_exporter": "python",
   "pygments_lexer": "ipython3",
   "version": "3.9.12"
  },
  "orig_nbformat": 4,
  "vscode": {
   "interpreter": {
    "hash": "aabdcabb1ce183cf2e0b393220d39e588eba15c9156edfaebeefbd82b848687e"
   }
  }
 },
 "nbformat": 4,
 "nbformat_minor": 2
}
